{
 "cells": [
  {
   "cell_type": "code",
   "execution_count": null,
   "id": "7c2390ad",
   "metadata": {},
   "outputs": [],
   "source": [
    "  df <- read.table(\"sstoi.indices.txt\", header=T)\n",
    "  df$time <- df$YR + (df$MON - .5) / 12\n",
    "  df$simple <- df$NINO3.4 - mean(df$NINO3.4)\n",
    "  df$status <- ifelse(df$simple > .5, 'El Nino',\n",
    "               ifelse(df$simple < -.5, 'La Nina', 'Neutral'))"
   ]
  },
  {
   "cell_type": "code",
   "execution_count": null,
   "id": "db57fdf7",
   "metadata": {},
   "outputs": [],
   "source": [
    "library(ggplot2)\n",
    "\n",
    "ggplot(df, aes(time, simple, fill=status)) +\n",
    "    geom_col() + xlab(NULL) + ylab('NINO 3.4 Index')"
   ]
  },
  {
   "cell_type": "code",
   "execution_count": null,
   "id": "41239844",
   "metadata": {
    "scrolled": true
   },
   "outputs": [],
   "source": [
    "df$Lsimple = c(NA, df$simple[1:(nrow(df)-1)])"
   ]
  },
  {
   "cell_type": "code",
   "execution_count": null,
   "id": "0139d635",
   "metadata": {
    "scrolled": true
   },
   "outputs": [],
   "source": [
    "summary(lm(simple ~ Lsimple, data=df))"
   ]
  },
  {
   "cell_type": "code",
   "execution_count": null,
   "id": "c5d2d93e",
   "metadata": {},
   "outputs": [],
   "source": [
    "mod = lm(simple ~ Lsimple, data=df)"
   ]
  },
  {
   "cell_type": "code",
   "execution_count": null,
   "id": "e01a7421",
   "metadata": {},
   "outputs": [],
   "source": [
    "df$yhat = predict(mod, df)"
   ]
  },
  {
   "cell_type": "code",
   "execution_count": null,
   "id": "4fceae1c",
   "metadata": {},
   "outputs": [],
   "source": [
    "library(ggplot2)\n",
    "\n",
    "ggplot(df, aes(time, simple, fill=status)) +\n",
    "    geom_col() + geom_point(aes(y=yhat))"
   ]
  },
  {
   "cell_type": "markdown",
   "id": "f6506d3a",
   "metadata": {},
   "source": [
    "Let's do some machine learning to build as good of a lag-based model as possible."
   ]
  },
  {
   "cell_type": "code",
   "execution_count": null,
   "id": "bb142b03",
   "metadata": {},
   "outputs": [],
   "source": [
    "make.lags = function(df, var, count) {\n",
    "    lagvar = paste0(\"L\", var)\n",
    "    df[, lagvar] = c(NA, df[1:(nrow(df)-1), var])\n",
    "    if (count == 1)\n",
    "        return(df)\n",
    "    return(make.lags(df, lagvar, count-1))\n",
    "}"
   ]
  },
  {
   "cell_type": "code",
   "execution_count": null,
   "id": "4cfa2dd1",
   "metadata": {},
   "outputs": [],
   "source": [
    "df2 = make.lags(df, 'simple', 3)"
   ]
  },
  {
   "cell_type": "code",
   "execution_count": null,
   "id": "bb6634cc",
   "metadata": {},
   "outputs": [],
   "source": [
    "head(df2)"
   ]
  },
  {
   "cell_type": "code",
   "execution_count": null,
   "id": "7422398f",
   "metadata": {},
   "outputs": [],
   "source": [
    "mod = lm(simple ~ Lsimple + LLsimple + LLLsimple, data=df2)"
   ]
  },
  {
   "cell_type": "code",
   "execution_count": null,
   "id": "bc148354",
   "metadata": {},
   "outputs": [],
   "source": [
    "summary(mod)"
   ]
  },
  {
   "cell_type": "markdown",
   "id": "7185cbbd",
   "metadata": {},
   "source": [
    "Our cross-validation question is, what model can best predict the next month?"
   ]
  },
  {
   "cell_type": "code",
   "execution_count": null,
   "id": "c51f51c4",
   "metadata": {},
   "outputs": [],
   "source": [
    "make.formula.helper = function(var, count) {\n",
    "    if (count == 1)\n",
    "        return(paste0(\"L\", var))\n",
    "    return(paste0(\"L\", c(var, make.formula.helper(var, count-1))))\n",
    "}\n",
    "make.formula = function(var, count) {\n",
    "    as.formula(paste(var, \"~\", paste(make.formula.helper(var, count), collapse=\" + \")))\n",
    "}"
   ]
  },
  {
   "cell_type": "code",
   "execution_count": null,
   "id": "8d4acb68",
   "metadata": {},
   "outputs": [],
   "source": [
    "summary(lm(make.formula('simple', 3), make.lags(df, 'simple', 3)))"
   ]
  },
  {
   "cell_type": "code",
   "execution_count": null,
   "id": "a5b0ca9a",
   "metadata": {},
   "outputs": [],
   "source": [
    "results = data.frame()\n",
    "for (count in 1:20) {\n",
    "    mod = lm(make.formula('simple', count), make.lags(df, 'simple', count))\n",
    "    results = rbind(results, data.frame(count, mse=mean(resid(mod)^2)))\n",
    "}"
   ]
  },
  {
   "cell_type": "code",
   "execution_count": null,
   "id": "23511dcd",
   "metadata": {},
   "outputs": [],
   "source": [
    "results"
   ]
  },
  {
   "cell_type": "markdown",
   "id": "2eeb2389",
   "metadata": {},
   "source": [
    "Leave-one-out cross-validation"
   ]
  },
  {
   "cell_type": "code",
   "execution_count": null,
   "id": "584e1bdc",
   "metadata": {},
   "outputs": [],
   "source": [
    "results$loo = NA\n",
    "for (count in 1:20) {\n",
    "    df2 = make.lags(df, 'simple', count)\n",
    "    form = make.formula('simple', count)\n",
    "    resids = c()\n",
    "    for (ii in 1:nrow(df)) {\n",
    "        mod = lm(form, df2[-ii,])\n",
    "        residii = predict(mod, df2[ii,]) - df2$simple[ii]\n",
    "        resids = c(resids, residii)\n",
    "    }\n",
    "    results$loo[count] = mean(resids^2, na.rm=T)\n",
    "}"
   ]
  },
  {
   "cell_type": "code",
   "execution_count": null,
   "id": "c7bd8d83",
   "metadata": {},
   "outputs": [],
   "source": [
    "results"
   ]
  },
  {
   "cell_type": "code",
   "execution_count": null,
   "id": "d87c4eea",
   "metadata": {},
   "outputs": [],
   "source": [
    "df$fold = rep(1:10, each=ceiling(nrow(df) / 10))[1:nrow(df)]"
   ]
  },
  {
   "cell_type": "code",
   "execution_count": null,
   "id": "983b8c41",
   "metadata": {},
   "outputs": [],
   "source": [
    "results$tenfold = NA\n",
    "for (count in 1:20) {\n",
    "    df2 = make.lags(df, 'simple', count)\n",
    "    form = make.formula('simple', count)\n",
    "    resids = c()\n",
    "    for (fold in 1:10) {\n",
    "        mod = lm(form, df2[df2$fold != fold,])\n",
    "        residii = predict(mod, df2[df2$fold == fold,]) - df2$simple[df2$fold == fold]\n",
    "        resids = c(resids, residii)\n",
    "    }\n",
    "    results$tenfold[count] = mean(resids^2, na.rm=T)\n",
    "}"
   ]
  },
  {
   "cell_type": "code",
   "execution_count": null,
   "id": "c4ae2cf0",
   "metadata": {},
   "outputs": [],
   "source": [
    "results"
   ]
  },
  {
   "cell_type": "code",
   "execution_count": null,
   "id": "f87fb382",
   "metadata": {},
   "outputs": [],
   "source": [
    "ggplot(results, aes(count)) +\n",
    "geom_line(aes(y=mse, colour='MSE')) + \n",
    "geom_line(aes(y=loo, colour='LOO')) + \n",
    "geom_line(aes(y=tenfold, colour='10x'))"
   ]
  },
  {
   "cell_type": "markdown",
   "id": "2a9c7bf2",
   "metadata": {},
   "source": [
    "Iterative projection"
   ]
  },
  {
   "cell_type": "code",
   "execution_count": null,
   "id": "40570820",
   "metadata": {},
   "outputs": [],
   "source": [
    "df2 = df[, c('time', 'simple', 'Lsimple')]\n",
    "mod = lm(simple ~ Lsimple, data=df)\n",
    "for (ii in 1:24) {\n",
    "    lastrow = tail(df2, 1)\n",
    "    simple = predict(mod, data.frame(Lsimple=lastrow$simple))\n",
    "    df2 = rbind(df2, data.frame(time=lastrow$time + 1/12, simple, Lsimple=lastrow$simple))\n",
    "}"
   ]
  },
  {
   "cell_type": "code",
   "execution_count": null,
   "id": "a6fe8efc",
   "metadata": {
    "scrolled": true
   },
   "outputs": [],
   "source": [
    "ggplot(df, aes(time, simple)) +\n",
    "    geom_col() + geom_point(data=df2, aes(y=simple))"
   ]
  },
  {
   "cell_type": "code",
   "execution_count": null,
   "id": "063b9db3",
   "metadata": {},
   "outputs": [],
   "source": [
    "df2 = make.lags(df, 'simple', 2)[, c('time', 'simple', 'Lsimple', 'LLsimple')]\n",
    "mod = lm(simple ~ Lsimple + LLsimple, data=df2)\n",
    "for (ii in 1:24) {\n",
    "    lastrow = tail(df2, 1)\n",
    "    nextrow = data.frame(time=lastrow$time + 1/12, Lsimple=lastrow$simple, LLsimple=lastrow$Lsimple)\n",
    "    nextrow$simple = predict(mod, nextrow)\n",
    "    df2 = rbind(df2, nextrow)\n",
    "}"
   ]
  },
  {
   "cell_type": "code",
   "execution_count": null,
   "id": "9a616345",
   "metadata": {},
   "outputs": [],
   "source": [
    "ggplot(df, aes(time, simple)) +\n",
    "    geom_col() + geom_point(data=df2, aes(y=simple))"
   ]
  },
  {
   "cell_type": "code",
   "execution_count": null,
   "id": "f6de8bdf",
   "metadata": {},
   "outputs": [],
   "source": [
    "project = function(df2, count, mod, len) {\n",
    "    for (ii in 1:len) {\n",
    "        df2 = rbind(df2, tail(df2, 1))\n",
    "        df2 = make.lags(df2, 'simple', count)\n",
    "        df2$time[nrow(df2)] = lastrow$time[nrow(df2)] + 1/12\n",
    "        df2$simple[nrow(df2)] = predict(mod, df2[nrow(df2),])\n",
    "    }\n",
    "    df2\n",
    "}"
   ]
  },
  {
   "cell_type": "code",
   "execution_count": null,
   "id": "433951d1",
   "metadata": {},
   "outputs": [],
   "source": [
    "results$tenfold2 = NA\n",
    "for (count in 1:20) {\n",
    "    df2 = make.lags(df, 'simple', count)\n",
    "    form = make.formula('simple', count)\n",
    "    resids = c()\n",
    "    for (fold in 2:10) {\n",
    "        mod = lm(form, df2[df2$fold != fold,])\n",
    "        df3 = project(df2[df2$fold < fold,], count, mod, sum(df2$fold == fold))\n",
    "        residii = df3$simple[df2$fold == fold] - df2$simple[df2$fold == fold]\n",
    "        resids = c(resids, residii)\n",
    "    }\n",
    "    results$tenfold2[count] = mean(resids^2, na.rm=T)\n",
    "}"
   ]
  },
  {
   "cell_type": "code",
   "execution_count": null,
   "id": "b3935bcc",
   "metadata": {},
   "outputs": [],
   "source": [
    "results"
   ]
  },
  {
   "cell_type": "code",
   "execution_count": null,
   "id": "1f824882",
   "metadata": {},
   "outputs": [],
   "source": []
  }
 ],
 "metadata": {
  "kernelspec": {
   "display_name": "R",
   "language": "R",
   "name": "ir"
  },
  "language_info": {
   "codemirror_mode": "r",
   "file_extension": ".r",
   "mimetype": "text/x-r-source",
   "name": "R",
   "pygments_lexer": "r",
   "version": "4.4.2"
  }
 },
 "nbformat": 4,
 "nbformat_minor": 5
}
