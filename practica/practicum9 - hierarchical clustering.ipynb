{
 "cells": [
  {
   "cell_type": "code",
   "execution_count": null,
   "id": "b264e7d9",
   "metadata": {},
   "outputs": [],
   "source": [
    "df = read.csv(\"sdsurvey.csv\")"
   ]
  },
  {
   "cell_type": "code",
   "execution_count": null,
   "id": "85632042",
   "metadata": {},
   "outputs": [],
   "source": [
    "df"
   ]
  },
  {
   "cell_type": "markdown",
   "id": "405f86c6",
   "metadata": {},
   "source": [
    "### Normalize across subjects and disciplines"
   ]
  },
  {
   "cell_type": "code",
   "execution_count": null,
   "id": "854957e6",
   "metadata": {},
   "outputs": [],
   "source": [
    "names(df)"
   ]
  },
  {
   "cell_type": "code",
   "execution_count": null,
   "id": "79ebba9b",
   "metadata": {
    "scrolled": true
   },
   "outputs": [],
   "source": [
    "names(df)[1:12]"
   ]
  },
  {
   "cell_type": "code",
   "execution_count": null,
   "id": "296775ea",
   "metadata": {},
   "outputs": [],
   "source": [
    "names(df)[13:25]"
   ]
  },
  {
   "cell_type": "code",
   "execution_count": null,
   "id": "dfa0920d",
   "metadata": {},
   "outputs": [],
   "source": [
    "df[is.na(df)] = 0"
   ]
  },
  {
   "cell_type": "code",
   "execution_count": null,
   "id": "8dbc074b",
   "metadata": {
    "scrolled": true
   },
   "outputs": [],
   "source": [
    "rowSums(df[, 1:12])"
   ]
  },
  {
   "cell_type": "code",
   "execution_count": null,
   "id": "aade405f",
   "metadata": {},
   "outputs": [],
   "source": [
    "dfnorm = df[, 1:25]"
   ]
  },
  {
   "cell_type": "code",
   "execution_count": null,
   "id": "aa22be3e",
   "metadata": {},
   "outputs": [],
   "source": [
    "dfnorm[, 1:12] = df[, 1:12] / rowSums(df[, 1:12])"
   ]
  },
  {
   "cell_type": "code",
   "execution_count": null,
   "id": "41aaea8a",
   "metadata": {},
   "outputs": [],
   "source": [
    "dfnorm[, 13:25] = df[, 13:25] / rowSums(df[, 13:25])"
   ]
  },
  {
   "cell_type": "code",
   "execution_count": null,
   "id": "0aa0e627",
   "metadata": {},
   "outputs": [],
   "source": [
    "rowSums(dfnorm)"
   ]
  },
  {
   "cell_type": "code",
   "execution_count": null,
   "id": "eaa2e5fb",
   "metadata": {
    "scrolled": true
   },
   "outputs": [],
   "source": [
    "dfnorm"
   ]
  },
  {
   "cell_type": "code",
   "execution_count": null,
   "id": "3c398a54",
   "metadata": {},
   "outputs": [],
   "source": [
    "d <- dist(dfnorm, method = \"euclidean\") # distance matrix"
   ]
  },
  {
   "cell_type": "code",
   "execution_count": null,
   "id": "a1616a73",
   "metadata": {},
   "outputs": [],
   "source": [
    "d"
   ]
  },
  {
   "cell_type": "code",
   "execution_count": null,
   "id": "2e9f384e",
   "metadata": {},
   "outputs": [],
   "source": [
    "image(as.matrix(d))"
   ]
  },
  {
   "cell_type": "code",
   "execution_count": null,
   "id": "ef3e80e8",
   "metadata": {},
   "outputs": [],
   "source": [
    "as.matrix(d) == min(d)"
   ]
  },
  {
   "cell_type": "code",
   "execution_count": null,
   "id": "932878ed",
   "metadata": {},
   "outputs": [],
   "source": [
    "which(as.matrix(d) == min(d))"
   ]
  },
  {
   "cell_type": "code",
   "execution_count": null,
   "id": "dfbbcd14",
   "metadata": {
    "scrolled": true
   },
   "outputs": [],
   "source": [
    "which(as.matrix(d) == min(d), arr.ind=T)"
   ]
  },
  {
   "cell_type": "code",
   "execution_count": null,
   "id": "92e1b0de",
   "metadata": {},
   "outputs": [],
   "source": [
    "df[c(17, 18),]"
   ]
  },
  {
   "cell_type": "code",
   "execution_count": null,
   "id": "e2d68b46",
   "metadata": {},
   "outputs": [],
   "source": [
    "which(as.matrix(d) == max(d), arr.ind=T)"
   ]
  },
  {
   "cell_type": "code",
   "execution_count": null,
   "id": "3e27434c",
   "metadata": {},
   "outputs": [],
   "source": [
    "df[c(11, 14),]"
   ]
  },
  {
   "cell_type": "code",
   "execution_count": null,
   "id": "6b0653c0",
   "metadata": {},
   "outputs": [],
   "source": [
    "fit <- hclust(d, method=\"complete\")"
   ]
  },
  {
   "cell_type": "code",
   "execution_count": null,
   "id": "1a21b457",
   "metadata": {},
   "outputs": [],
   "source": [
    "plot(fit)"
   ]
  },
  {
   "cell_type": "code",
   "execution_count": null,
   "id": "36e4a447",
   "metadata": {},
   "outputs": [],
   "source": [
    "plot(fit) # display dendogram\n",
    "rect.hclust(fit, k=3, border=\"red\") "
   ]
  },
  {
   "cell_type": "code",
   "execution_count": null,
   "id": "868644b5",
   "metadata": {},
   "outputs": [],
   "source": [
    "groups <- cutree(fit, k=3) # cut tree into 3 clusters\n",
    "groups"
   ]
  },
  {
   "cell_type": "code",
   "execution_count": null,
   "id": "1aea544f",
   "metadata": {},
   "outputs": [],
   "source": [
    "round(colMeans(dfnorm[groups == 1,]) * 14)"
   ]
  },
  {
   "cell_type": "code",
   "execution_count": null,
   "id": "f5cb8139",
   "metadata": {},
   "outputs": [],
   "source": [
    "round(colMeans(dfnorm[groups == 2,]) * 14)"
   ]
  },
  {
   "cell_type": "code",
   "execution_count": null,
   "id": "6a62b36a",
   "metadata": {},
   "outputs": [],
   "source": [
    "round(colMeans(dfnorm[groups == 3,]) * 14)"
   ]
  },
  {
   "cell_type": "code",
   "execution_count": null,
   "id": "fcf512ac",
   "metadata": {},
   "outputs": [],
   "source": [
    "names(fit)"
   ]
  },
  {
   "cell_type": "code",
   "execution_count": null,
   "id": "5c0af4ab",
   "metadata": {},
   "outputs": [],
   "source": [
    "fit$order"
   ]
  },
  {
   "cell_type": "code",
   "execution_count": null,
   "id": "6c711026",
   "metadata": {},
   "outputs": [],
   "source": [
    "plot(df$d.empmicro[fit$order])"
   ]
  },
  {
   "cell_type": "code",
   "execution_count": null,
   "id": "5773c92e",
   "metadata": {},
   "outputs": [],
   "source": [
    "plot(sapply(fit$order, function(ii) sd(dfnorm[ii, 1:12])))"
   ]
  }
 ],
 "metadata": {
  "kernelspec": {
   "display_name": "R",
   "language": "R",
   "name": "ir"
  },
  "language_info": {
   "codemirror_mode": "r",
   "file_extension": ".r",
   "mimetype": "text/x-r-source",
   "name": "R",
   "pygments_lexer": "r",
   "version": "4.4.2"
  }
 },
 "nbformat": 4,
 "nbformat_minor": 5
}
