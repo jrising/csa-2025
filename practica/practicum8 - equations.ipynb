{
 "cells": [
  {
   "cell_type": "markdown",
   "id": "904d8693",
   "metadata": {},
   "source": [
    "Question 1 of lab 3 asked you to write in code the expression:\n",
    "$$f(x) = e^{\\sum_{i=1}^m \\lambda_i r_i(x)}$$\n",
    "\n",
    "Let's let $\\lambda = [0.7477088, -0.1245683]$, $r$ = ['mean', 'vpms'], $x$ be sampled from -10 to 10."
   ]
  },
  {
   "cell_type": "code",
   "execution_count": null,
   "id": "b0ec6008",
   "metadata": {},
   "outputs": [],
   "source": [
    "rfuncs <- list()\n",
    "rfuncs$mean <- function(xx) xx\n",
    "rfuncs$vpms <- function(xx) xx^2"
   ]
  },
  {
   "cell_type": "code",
   "execution_count": null,
   "id": "6cbc25ba",
   "metadata": {},
   "outputs": [],
   "source": [
    "lambdas = c(0.7477088, -0.1245683)\n",
    "rfs = c('mean', 'vpms')\n",
    "xx = seq(-10, 10, length.out=200)"
   ]
  },
  {
   "cell_type": "markdown",
   "id": "5f0eb7bc",
   "metadata": {},
   "source": [
    "Some ways to write it:"
   ]
  },
  {
   "cell_type": "code",
   "execution_count": null,
   "id": "084e724f",
   "metadata": {},
   "outputs": [],
   "source": [
    "yy = 0 * xx\n",
    "for (tt in 1:length(xx)) {\n",
    "    exponent = 0\n",
    "    for (ii in 1:length(rfs))\n",
    "        exponent = exponent + lambdas[ii] * rfuncs[[rfs[ii]]](xx[tt])\n",
    "    yy[tt] = exp(exponent)\n",
    "}"
   ]
  },
  {
   "cell_type": "code",
   "execution_count": null,
   "id": "5dac30ec",
   "metadata": {},
   "outputs": [],
   "source": [
    "plot(xx, yy)"
   ]
  },
  {
   "cell_type": "code",
   "execution_count": null,
   "id": "6a7297c8",
   "metadata": {},
   "outputs": [],
   "source": [
    "yy = c()\n",
    "for (x in xx) {\n",
    "    exponent = 0\n",
    "    for (ii in 1:length(rfs))\n",
    "        exponent = exponent + lambdas[ii] * rfuncs[[rfs[ii]]](x)\n",
    "    yy = c(yy, exp(exponent))\n",
    "}"
   ]
  },
  {
   "cell_type": "code",
   "execution_count": null,
   "id": "76991279",
   "metadata": {},
   "outputs": [],
   "source": [
    "plot(xx, yy)"
   ]
  },
  {
   "cell_type": "code",
   "execution_count": null,
   "id": "1dad01d6",
   "metadata": {},
   "outputs": [],
   "source": [
    "exponent = rep(0, length(xx))\n",
    "for (ii in 1:length(rfs))\n",
    "    exponent <- exponent + lambdas[ii] * rfuncs[[rfs[ii]]](xx)\n",
    "\n",
    "yy = exp(exponent)"
   ]
  },
  {
   "cell_type": "code",
   "execution_count": null,
   "id": "08f1caf0",
   "metadata": {
    "scrolled": true
   },
   "outputs": [],
   "source": [
    "plot(xx, yy)"
   ]
  },
  {
   "cell_type": "code",
   "execution_count": null,
   "id": "d970047a",
   "metadata": {},
   "outputs": [],
   "source": [
    "yy = c()\n",
    "for (x in xx) {\n",
    "    terms = sapply(1:length(rfs), function(ii) lambdas[ii] * rfuncs[[rfs[ii]]](x))\n",
    "    yy = c(yy, exp(sum(terms)))\n",
    "}"
   ]
  },
  {
   "cell_type": "code",
   "execution_count": null,
   "id": "41802cfb",
   "metadata": {
    "scrolled": true
   },
   "outputs": [],
   "source": [
    "plot(xx, yy)"
   ]
  },
  {
   "cell_type": "code",
   "execution_count": null,
   "id": "af5c8178",
   "metadata": {},
   "outputs": [],
   "source": [
    "sapply(1:length(rfs), function(ii) lambdas[ii] * rfuncs[[rfs[ii]]](xx))"
   ]
  },
  {
   "cell_type": "code",
   "execution_count": null,
   "id": "2b54fa24",
   "metadata": {},
   "outputs": [],
   "source": [
    "terms = sapply(1:length(rfs), function(ii) lambdas[ii] * rfuncs[[rfs[ii]]](xx))\n",
    "yy = exp(rowSums(terms))"
   ]
  },
  {
   "cell_type": "code",
   "execution_count": null,
   "id": "b24646ba",
   "metadata": {
    "scrolled": true
   },
   "outputs": [],
   "source": [
    "plot(xx, yy)"
   ]
  },
  {
   "cell_type": "code",
   "execution_count": null,
   "id": "5767eb10",
   "metadata": {},
   "outputs": [],
   "source": [
    "yy = exp(rowSums(sapply(1:length(rfs), function(ii) lambdas[ii] * rfuncs[[rfs[ii]]](xx))))"
   ]
  },
  {
   "cell_type": "code",
   "execution_count": null,
   "id": "fe05f28b",
   "metadata": {},
   "outputs": [],
   "source": [
    "plot(xx, yy)"
   ]
  },
  {
   "cell_type": "markdown",
   "id": "fedde104",
   "metadata": {},
   "source": [
    "## Other equations\n",
    "* Entropy of a distribution\n",
    "* Uniform distribution\n",
    "* Variance of a distribution\n",
    "* Choosing witdth of a uniform distribution\n",
    "* Frequency-domain to time-domain"
   ]
  },
  {
   "cell_type": "markdown",
   "id": "5aded5f7",
   "metadata": {},
   "source": [
    "To calculate the entropy of a distribution, $X \\sim f(x)$, we need to compute:\n",
    "$$H(X) = -\\sum_{i=1}^N f(x_i) \\log_2 f(x_i)$$\n",
    "\n",
    "Let $x = [1, 2, 3, 4, 5, 6]$, $f(x) = 1/6$."
   ]
  },
  {
   "cell_type": "code",
   "execution_count": null,
   "id": "d241d49a",
   "metadata": {},
   "outputs": [],
   "source": [
    "xx = 1:6\n",
    "ff = rep(1 / 6, length(xx))"
   ]
  },
  {
   "cell_type": "code",
   "execution_count": null,
   "id": "3ed8a0b9",
   "metadata": {},
   "outputs": [],
   "source": [
    "-sum(ff * log2(ff))"
   ]
  },
  {
   "cell_type": "markdown",
   "id": "d1d6d22e",
   "metadata": {},
   "source": [
    "Try applying this to the MaxEnt distribution. First need to normalize it."
   ]
  },
  {
   "cell_type": "code",
   "execution_count": null,
   "id": "63dbb414",
   "metadata": {},
   "outputs": [],
   "source": [
    "ff = yy / sum(yy)"
   ]
  },
  {
   "cell_type": "code",
   "execution_count": null,
   "id": "17aa1be0",
   "metadata": {
    "scrolled": true
   },
   "outputs": [],
   "source": [
    "-sum(ff * log2(ff))"
   ]
  },
  {
   "cell_type": "code",
   "execution_count": null,
   "id": "3166f1df",
   "metadata": {},
   "outputs": [],
   "source": [
    "xx = seq(-10, 10, length.out=200)\n",
    "yy = dnorm(xx, 3, 2)\n",
    "ff = yy / sum(yy)"
   ]
  },
  {
   "cell_type": "code",
   "execution_count": null,
   "id": "3a471c62",
   "metadata": {
    "scrolled": true
   },
   "outputs": [],
   "source": [
    "-sum(ff * log2(ff))"
   ]
  },
  {
   "cell_type": "markdown",
   "id": "e0b4f5ad",
   "metadata": {},
   "source": [
    "What about the entropy of a uniform distribution, with the same mean and standard deviation?\n",
    "\n",
    "Define our (unnormalized) uniform distribution is defined as\n",
    "$$f(x) = \\begin{cases}\n",
    "1 & \\text{if $|x - \\mu| < \\Delta$} \\\\\n",
    "0 & \\text{otherwise}\n",
    "\\end{cases}$$\n",
    "\n",
    "Let $x$ be sampled as before, $\\mu = 3$ and $\\Delta = 1$."
   ]
  },
  {
   "cell_type": "code",
   "execution_count": null,
   "id": "35573d93",
   "metadata": {},
   "outputs": [],
   "source": [
    "mu = 3\n",
    "delta = 1"
   ]
  },
  {
   "cell_type": "code",
   "execution_count": null,
   "id": "e1c4d9b4",
   "metadata": {},
   "outputs": [],
   "source": [
    "yy = 1 * (abs(xx - mu) < delta)"
   ]
  },
  {
   "cell_type": "code",
   "execution_count": null,
   "id": "89ec3b63",
   "metadata": {
    "scrolled": true
   },
   "outputs": [],
   "source": [
    "plot(xx, yy)"
   ]
  },
  {
   "cell_type": "markdown",
   "id": "388876ac",
   "metadata": {},
   "source": [
    "What is the variance of that distribution?\n",
    "$$\\text{Variance}(X) = E[(X - \\mu)^2] = \\sum_i (x_i - \\mu)^2 f(x_i)$$"
   ]
  },
  {
   "cell_type": "code",
   "execution_count": null,
   "id": "26976e86",
   "metadata": {},
   "outputs": [],
   "source": [
    "ff = yy / sum(yy)"
   ]
  },
  {
   "cell_type": "code",
   "execution_count": null,
   "id": "c444964a",
   "metadata": {},
   "outputs": [],
   "source": [
    "sum((xx - mu)^2 * ff)"
   ]
  },
  {
   "cell_type": "markdown",
   "id": "fa62d5ab",
   "metadata": {},
   "source": [
    "How wide should that distribution be?"
   ]
  },
  {
   "cell_type": "code",
   "execution_count": null,
   "id": "bdea8ee0",
   "metadata": {},
   "outputs": [],
   "source": [
    "varerror = function(delta) {\n",
    "    yy = 1 * (abs(xx - mu) < delta)\n",
    "    ff = yy / sum(yy)\n",
    "    abs(sum((xx - mu)^2 * ff) - 2)\n",
    "}"
   ]
  },
  {
   "cell_type": "code",
   "execution_count": null,
   "id": "ad75aeb1",
   "metadata": {
    "scrolled": true
   },
   "outputs": [],
   "source": [
    "optimize(varerror, c(0, 10))"
   ]
  },
  {
   "cell_type": "markdown",
   "id": "272a0c9a",
   "metadata": {},
   "source": [
    "Let's compare these."
   ]
  },
  {
   "cell_type": "code",
   "execution_count": null,
   "id": "9efe7e56",
   "metadata": {},
   "outputs": [],
   "source": [
    "yy1 = 1 * (abs(xx - mu) < 2.44917818897651)\n",
    "ff1 = yy1 / sum(yy1)\n",
    "yy2 = dnorm(xx, 3, 2)\n",
    "ff2 = yy2 / sum(yy2)"
   ]
  },
  {
   "cell_type": "code",
   "execution_count": null,
   "id": "b8360951",
   "metadata": {},
   "outputs": [],
   "source": [
    "plot(xx, ff2, col=1)\n",
    "points(xx, ff1, col=2)"
   ]
  },
  {
   "cell_type": "code",
   "execution_count": null,
   "id": "444c987f",
   "metadata": {
    "scrolled": false
   },
   "outputs": [],
   "source": [
    "-sum(ff2 * log2(ff2))"
   ]
  },
  {
   "cell_type": "code",
   "execution_count": null,
   "id": "24d5e1d0",
   "metadata": {},
   "outputs": [],
   "source": [
    "-sum(ff1 * log2(ff1), na.rm=T)"
   ]
  }
 ],
 "metadata": {
  "kernelspec": {
   "display_name": "R",
   "language": "R",
   "name": "ir"
  },
  "language_info": {
   "codemirror_mode": "r",
   "file_extension": ".r",
   "mimetype": "text/x-r-source",
   "name": "R",
   "pygments_lexer": "r",
   "version": "4.4.2"
  }
 },
 "nbformat": 4,
 "nbformat_minor": 5
}
